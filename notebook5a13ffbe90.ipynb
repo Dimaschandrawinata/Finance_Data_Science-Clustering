{
 "cells": [
  {
   "cell_type": "code",
   "execution_count": 1,
   "id": "70e93470",
   "metadata": {
    "_cell_guid": "b1076dfc-b9ad-4769-8c92-a6c4dae69d19",
    "_uuid": "8f2839f25d086af736a60e9eeb907d3b93b6e0e5",
    "execution": {
     "iopub.execute_input": "2022-04-15T15:51:46.520474Z",
     "iopub.status.busy": "2022-04-15T15:51:46.520068Z",
     "iopub.status.idle": "2022-04-15T15:51:46.536810Z",
     "shell.execute_reply": "2022-04-15T15:51:46.535537Z"
    },
    "papermill": {
     "duration": 0.043013,
     "end_time": "2022-04-15T15:51:46.538355",
     "exception": false,
     "start_time": "2022-04-15T15:51:46.495342",
     "status": "completed"
    },
    "tags": []
   },
   "outputs": [
    {
     "name": "stdout",
     "output_type": "stream",
     "text": [
      "/kaggle/input/uts-bigdata/UTS_BIGDATA.csv\n"
     ]
    }
   ],
   "source": [
    "# This Python 3 environment comes with many helpful analytics libraries installed\n",
    "# It is defined by the kaggle/python Docker image: https://github.com/kaggle/docker-python\n",
    "# For example, here's several helpful packages to load\n",
    "\n",
    "import numpy as np # linear algebra\n",
    "import pandas as pd # data processing, CSV file I/O (e.g. pd.read_csv)\n",
    "\n",
    "# Input data files are available in the read-only \"../input/\" directory\n",
    "# For example, running this (by clicking run or pressing Shift+Enter) will list all files under the input directory\n",
    "\n",
    "import os\n",
    "for dirname, _, filenames in os.walk('/kaggle/input'):\n",
    "    for filename in filenames:\n",
    "        print(os.path.join(dirname, filename))\n",
    "\n",
    "# You can write up to 20GB to the current directory (/kaggle/working/) that gets preserved as output when you create a version using \"Save & Run All\" \n",
    "# You can also write temporary files to /kaggle/temp/, but they won't be saved outside of the current session"
   ]
  },
  {
   "cell_type": "code",
   "execution_count": 2,
   "id": "80b1afec",
   "metadata": {
    "execution": {
     "iopub.execute_input": "2022-04-15T15:51:46.584373Z",
     "iopub.status.busy": "2022-04-15T15:51:46.584035Z",
     "iopub.status.idle": "2022-04-15T15:51:47.555022Z",
     "shell.execute_reply": "2022-04-15T15:51:47.554150Z"
    },
    "papermill": {
     "duration": 0.996573,
     "end_time": "2022-04-15T15:51:47.556963",
     "exception": false,
     "start_time": "2022-04-15T15:51:46.560390",
     "status": "completed"
    },
    "tags": []
   },
   "outputs": [],
   "source": [
    "import pandas as pd \n",
    "import numpy as np\n",
    "import matplotlib.pyplot as plt\n",
    "import seaborn as sns\n",
    "from matplotlib.colors import ListedColormap\n",
    "%matplotlib inline\n",
    "from scipy import stats"
   ]
  },
  {
   "cell_type": "code",
   "execution_count": 3,
   "id": "3daa33d8",
   "metadata": {
    "execution": {
     "iopub.execute_input": "2022-04-15T15:51:47.601393Z",
     "iopub.status.busy": "2022-04-15T15:51:47.601191Z",
     "iopub.status.idle": "2022-04-15T15:51:47.628315Z",
     "shell.execute_reply": "2022-04-15T15:51:47.627596Z"
    },
    "papermill": {
     "duration": 0.051107,
     "end_time": "2022-04-15T15:51:47.629932",
     "exception": false,
     "start_time": "2022-04-15T15:51:47.578825",
     "status": "completed"
    },
    "tags": []
   },
   "outputs": [
    {
     "name": "stdout",
     "output_type": "stream",
     "text": [
      "<class 'pandas.core.frame.DataFrame'>\n",
      "RangeIndex: 3 entries, 0 to 2\n",
      "Data columns (total 6 columns):\n",
      " #   Column                   Non-Null Count  Dtype  \n",
      "---  ------                   --------------  -----  \n",
      " 0   Emitten                  3 non-null      object \n",
      " 1   DER                      3 non-null      float64\n",
      " 2   Operating Profit Margin  3 non-null      float64\n",
      " 3   Return On Asset          3 non-null      float64\n",
      " 4   Sales Growth             3 non-null      float64\n",
      " 5   Category                 0 non-null      float64\n",
      "dtypes: float64(5), object(1)\n",
      "memory usage: 272.0+ bytes\n"
     ]
    }
   ],
   "source": [
    "df0 = pd.read_csv('../input/uts-bigdata/UTS_BIGDATA.csv')\n",
    "df0.info()"
   ]
  },
  {
   "cell_type": "code",
   "execution_count": 4,
   "id": "a48f6ca1",
   "metadata": {
    "execution": {
     "iopub.execute_input": "2022-04-15T15:51:47.675021Z",
     "iopub.status.busy": "2022-04-15T15:51:47.674311Z",
     "iopub.status.idle": "2022-04-15T15:51:47.702380Z",
     "shell.execute_reply": "2022-04-15T15:51:47.701686Z"
    },
    "papermill": {
     "duration": 0.052297,
     "end_time": "2022-04-15T15:51:47.703898",
     "exception": false,
     "start_time": "2022-04-15T15:51:47.651601",
     "status": "completed"
    },
    "tags": []
   },
   "outputs": [
    {
     "data": {
      "text/html": [
       "<div>\n",
       "<style scoped>\n",
       "    .dataframe tbody tr th:only-of-type {\n",
       "        vertical-align: middle;\n",
       "    }\n",
       "\n",
       "    .dataframe tbody tr th {\n",
       "        vertical-align: top;\n",
       "    }\n",
       "\n",
       "    .dataframe thead th {\n",
       "        text-align: right;\n",
       "    }\n",
       "</style>\n",
       "<table border=\"1\" class=\"dataframe\">\n",
       "  <thead>\n",
       "    <tr style=\"text-align: right;\">\n",
       "      <th></th>\n",
       "      <th>DER</th>\n",
       "      <th>Operating Profit Margin</th>\n",
       "      <th>Return On Asset</th>\n",
       "      <th>Sales Growth</th>\n",
       "      <th>Category</th>\n",
       "    </tr>\n",
       "  </thead>\n",
       "  <tbody>\n",
       "    <tr>\n",
       "      <th>count</th>\n",
       "      <td>3.000000</td>\n",
       "      <td>3.000000</td>\n",
       "      <td>3.000000</td>\n",
       "      <td>3.000000</td>\n",
       "      <td>0.0</td>\n",
       "    </tr>\n",
       "    <tr>\n",
       "      <th>mean</th>\n",
       "      <td>9.344470</td>\n",
       "      <td>2.343210</td>\n",
       "      <td>10.958126</td>\n",
       "      <td>32.837649</td>\n",
       "      <td>NaN</td>\n",
       "    </tr>\n",
       "    <tr>\n",
       "      <th>std</th>\n",
       "      <td>15.415716</td>\n",
       "      <td>3.029477</td>\n",
       "      <td>18.986828</td>\n",
       "      <td>56.785711</td>\n",
       "      <td>NaN</td>\n",
       "    </tr>\n",
       "    <tr>\n",
       "      <th>min</th>\n",
       "      <td>0.341202</td>\n",
       "      <td>0.341202</td>\n",
       "      <td>-0.078639</td>\n",
       "      <td>-0.014861</td>\n",
       "      <td>NaN</td>\n",
       "    </tr>\n",
       "    <tr>\n",
       "      <th>25%</th>\n",
       "      <td>0.444402</td>\n",
       "      <td>0.600563</td>\n",
       "      <td>-0.003839</td>\n",
       "      <td>0.052426</td>\n",
       "      <td>NaN</td>\n",
       "    </tr>\n",
       "    <tr>\n",
       "      <th>50%</th>\n",
       "      <td>0.547602</td>\n",
       "      <td>0.859924</td>\n",
       "      <td>0.070961</td>\n",
       "      <td>0.119712</td>\n",
       "      <td>NaN</td>\n",
       "    </tr>\n",
       "    <tr>\n",
       "      <th>75%</th>\n",
       "      <td>13.846104</td>\n",
       "      <td>3.344215</td>\n",
       "      <td>16.476509</td>\n",
       "      <td>49.263903</td>\n",
       "      <td>NaN</td>\n",
       "    </tr>\n",
       "    <tr>\n",
       "      <th>max</th>\n",
       "      <td>27.144606</td>\n",
       "      <td>5.828505</td>\n",
       "      <td>32.882056</td>\n",
       "      <td>98.408094</td>\n",
       "      <td>NaN</td>\n",
       "    </tr>\n",
       "  </tbody>\n",
       "</table>\n",
       "</div>"
      ],
      "text/plain": [
       "             DER  Operating Profit Margin  Return On Asset  Sales Growth  \\\n",
       "count   3.000000                 3.000000         3.000000      3.000000   \n",
       "mean    9.344470                 2.343210        10.958126     32.837649   \n",
       "std    15.415716                 3.029477        18.986828     56.785711   \n",
       "min     0.341202                 0.341202        -0.078639     -0.014861   \n",
       "25%     0.444402                 0.600563        -0.003839      0.052426   \n",
       "50%     0.547602                 0.859924         0.070961      0.119712   \n",
       "75%    13.846104                 3.344215        16.476509     49.263903   \n",
       "max    27.144606                 5.828505        32.882056     98.408094   \n",
       "\n",
       "       Category  \n",
       "count       0.0  \n",
       "mean        NaN  \n",
       "std         NaN  \n",
       "min         NaN  \n",
       "25%         NaN  \n",
       "50%         NaN  \n",
       "75%         NaN  \n",
       "max         NaN  "
      ]
     },
     "execution_count": 4,
     "metadata": {},
     "output_type": "execute_result"
    }
   ],
   "source": [
    "df0.describe()"
   ]
  },
  {
   "cell_type": "code",
   "execution_count": 5,
   "id": "3da02238",
   "metadata": {
    "execution": {
     "iopub.execute_input": "2022-04-15T15:51:47.749905Z",
     "iopub.status.busy": "2022-04-15T15:51:47.749590Z",
     "iopub.status.idle": "2022-04-15T15:51:47.754661Z",
     "shell.execute_reply": "2022-04-15T15:51:47.753937Z"
    },
    "papermill": {
     "duration": 0.030045,
     "end_time": "2022-04-15T15:51:47.756105",
     "exception": false,
     "start_time": "2022-04-15T15:51:47.726060",
     "status": "completed"
    },
    "tags": []
   },
   "outputs": [],
   "source": [
    "df0.drop([\"Emitten\",\"Category\"], axis=1, inplace=True)"
   ]
  },
  {
   "cell_type": "code",
   "execution_count": 6,
   "id": "f830efc6",
   "metadata": {
    "execution": {
     "iopub.execute_input": "2022-04-15T15:51:47.802486Z",
     "iopub.status.busy": "2022-04-15T15:51:47.801646Z",
     "iopub.status.idle": "2022-04-15T15:51:49.221416Z",
     "shell.execute_reply": "2022-04-15T15:51:49.220473Z"
    },
    "papermill": {
     "duration": 1.445861,
     "end_time": "2022-04-15T15:51:49.223869",
     "exception": false,
     "start_time": "2022-04-15T15:51:47.778008",
     "status": "completed"
    },
    "tags": []
   },
   "outputs": [
    {
     "data": {
      "text/plain": [
       "<Figure size 1080x1080 with 0 Axes>"
      ]
     },
     "metadata": {},
     "output_type": "display_data"
    },
    {
     "data": {
      "image/png": "[encoded data removed]",
      "text/plain": [
       "<Figure size 540x540 with 12 Axes>"
      ]
     },
     "metadata": {
      "needs_background": "light"
     },
     "output_type": "display_data"
    }
   ],
   "source": [
    "plt.figure(figsize=(15, 15))\n",
    "sns.pairplot(df0, vars = df0.columns[1:13]);"
   ]
  },
  {
   "cell_type": "code",
   "execution_count": 7,
   "id": "330b5296",
   "metadata": {
    "execution": {
     "iopub.execute_input": "2022-04-15T15:51:49.300397Z",
     "iopub.status.busy": "2022-04-15T15:51:49.299837Z",
     "iopub.status.idle": "2022-04-15T15:51:49.323078Z",
     "shell.execute_reply": "2022-04-15T15:51:49.322082Z"
    },
    "papermill": {
     "duration": 0.065314,
     "end_time": "2022-04-15T15:51:49.325144",
     "exception": false,
     "start_time": "2022-04-15T15:51:49.259830",
     "status": "completed"
    },
    "tags": []
   },
   "outputs": [
    {
     "data": {
      "text/html": [
       "<div>\n",
       "<style scoped>\n",
       "    .dataframe tbody tr th:only-of-type {\n",
       "        vertical-align: middle;\n",
       "    }\n",
       "\n",
       "    .dataframe tbody tr th {\n",
       "        vertical-align: top;\n",
       "    }\n",
       "\n",
       "    .dataframe thead th {\n",
       "        text-align: right;\n",
       "    }\n",
       "</style>\n",
       "<table border=\"1\" class=\"dataframe\">\n",
       "  <thead>\n",
       "    <tr style=\"text-align: right;\">\n",
       "      <th></th>\n",
       "      <th>DER</th>\n",
       "      <th>Operating Profit Margin</th>\n",
       "      <th>Return On Asset</th>\n",
       "      <th>Sales Growth</th>\n",
       "      <th>Category</th>\n",
       "    </tr>\n",
       "  </thead>\n",
       "  <tbody>\n",
       "    <tr>\n",
       "      <th>count</th>\n",
       "      <td>3.000000</td>\n",
       "      <td>3.000000</td>\n",
       "      <td>3.000000</td>\n",
       "      <td>3.000000</td>\n",
       "      <td>0.0</td>\n",
       "    </tr>\n",
       "    <tr>\n",
       "      <th>mean</th>\n",
       "      <td>9.344470</td>\n",
       "      <td>2.343210</td>\n",
       "      <td>10.958126</td>\n",
       "      <td>32.837649</td>\n",
       "      <td>NaN</td>\n",
       "    </tr>\n",
       "    <tr>\n",
       "      <th>std</th>\n",
       "      <td>15.415716</td>\n",
       "      <td>3.029477</td>\n",
       "      <td>18.986828</td>\n",
       "      <td>56.785711</td>\n",
       "      <td>NaN</td>\n",
       "    </tr>\n",
       "    <tr>\n",
       "      <th>min</th>\n",
       "      <td>0.341202</td>\n",
       "      <td>0.341202</td>\n",
       "      <td>-0.078639</td>\n",
       "      <td>-0.014861</td>\n",
       "      <td>NaN</td>\n",
       "    </tr>\n",
       "    <tr>\n",
       "      <th>25%</th>\n",
       "      <td>0.444402</td>\n",
       "      <td>0.600563</td>\n",
       "      <td>-0.003839</td>\n",
       "      <td>0.052426</td>\n",
       "      <td>NaN</td>\n",
       "    </tr>\n",
       "    <tr>\n",
       "      <th>50%</th>\n",
       "      <td>0.547602</td>\n",
       "      <td>0.859924</td>\n",
       "      <td>0.070961</td>\n",
       "      <td>0.119712</td>\n",
       "      <td>NaN</td>\n",
       "    </tr>\n",
       "    <tr>\n",
       "      <th>75%</th>\n",
       "      <td>13.846104</td>\n",
       "      <td>3.344215</td>\n",
       "      <td>16.476509</td>\n",
       "      <td>49.263903</td>\n",
       "      <td>NaN</td>\n",
       "    </tr>\n",
       "    <tr>\n",
       "      <th>max</th>\n",
       "      <td>27.144606</td>\n",
       "      <td>5.828505</td>\n",
       "      <td>32.882056</td>\n",
       "      <td>98.408094</td>\n",
       "      <td>NaN</td>\n",
       "    </tr>\n",
       "  </tbody>\n",
       "</table>\n",
       "</div>"
      ],
      "text/plain": [
       "             DER  Operating Profit Margin  Return On Asset  Sales Growth  \\\n",
       "count   3.000000                 3.000000         3.000000      3.000000   \n",
       "mean    9.344470                 2.343210        10.958126     32.837649   \n",
       "std    15.415716                 3.029477        18.986828     56.785711   \n",
       "min     0.341202                 0.341202        -0.078639     -0.014861   \n",
       "25%     0.444402                 0.600563        -0.003839      0.052426   \n",
       "50%     0.547602                 0.859924         0.070961      0.119712   \n",
       "75%    13.846104                 3.344215        16.476509     49.263903   \n",
       "max    27.144606                 5.828505        32.882056     98.408094   \n",
       "\n",
       "       Category  \n",
       "count       0.0  \n",
       "mean        NaN  \n",
       "std         NaN  \n",
       "min         NaN  \n",
       "25%         NaN  \n",
       "50%         NaN  \n",
       "75%         NaN  \n",
       "max         NaN  "
      ]
     },
     "execution_count": 7,
     "metadata": {},
     "output_type": "execute_result"
    }
   ],
   "source": [
    "df0 = pd.read_csv('../input/uts-bigdata/UTS_BIGDATA.csv')\n",
    "df1 = df0[['DER','Operating Profit Margin' ,'Return On Asset','Sales Growth','Category']]\n",
    "df1.describe()"
   ]
  },
  {
   "cell_type": "code",
   "execution_count": 8,
   "id": "73994c5e",
   "metadata": {
    "execution": {
     "iopub.execute_input": "2022-04-15T15:51:49.398917Z",
     "iopub.status.busy": "2022-04-15T15:51:49.398656Z",
     "iopub.status.idle": "2022-04-15T15:51:49.546674Z",
     "shell.execute_reply": "2022-04-15T15:51:49.546259Z"
    },
    "papermill": {
     "duration": 0.18776,
     "end_time": "2022-04-15T15:51:49.548982",
     "exception": false,
     "start_time": "2022-04-15T15:51:49.361222",
     "status": "completed"
    },
    "tags": []
   },
   "outputs": [
    {
     "data": {
      "text/plain": [
       "<AxesSubplot:xlabel='Emitten', ylabel='Operating Profit Margin'>"
      ]
     },
     "execution_count": 8,
     "metadata": {},
     "output_type": "execute_result"
    },
    {
     "data": {
      "image/png": "[encoded data removed]",
      "text/plain": [
       "<Figure size 1296x288 with 1 Axes>"
      ]
     },
     "metadata": {
      "needs_background": "light"
     },
     "output_type": "display_data"
    }
   ],
   "source": [
    "plt.figure(figsize=(18, 4))\n",
    "plt.xticks(rotation=45)\n",
    "sns.scatterplot(x='Emitten', y='Operating Profit Margin', \n",
    "                data=df0, s=80)"
   ]
  },
  {
   "cell_type": "code",
   "execution_count": 9,
   "id": "4c356dea",
   "metadata": {
    "execution": {
     "iopub.execute_input": "2022-04-15T15:51:49.626243Z",
     "iopub.status.busy": "2022-04-15T15:51:49.625864Z",
     "iopub.status.idle": "2022-04-15T15:51:49.873448Z",
     "shell.execute_reply": "2022-04-15T15:51:49.872133Z"
    },
    "papermill": {
     "duration": 0.288292,
     "end_time": "2022-04-15T15:51:49.875200",
     "exception": false,
     "start_time": "2022-04-15T15:51:49.586908",
     "status": "completed"
    },
    "tags": []
   },
   "outputs": [
    {
     "data": {
      "text/plain": [
       "<AxesSubplot:xlabel='Emitten', ylabel='DER'>"
      ]
     },
     "execution_count": 9,
     "metadata": {},
     "output_type": "execute_result"
    },
    {
     "data": {
      "image/png": "[encoded data removed]",
      "text/plain": [
       "<Figure size 1296x288 with 1 Axes>"
      ]
     },
     "metadata": {
      "needs_background": "light"
     },
     "output_type": "display_data"
    }
   ],
   "source": [
    "plt.figure(figsize=(18, 4))\n",
    "plt.xticks(rotation=45)\n",
    "sns.scatterplot(x='Emitten', y='DER', \n",
    "                data=df0, s=80)"
   ]
  },
  {
   "cell_type": "code",
   "execution_count": 10,
   "id": "e19b5570",
   "metadata": {
    "execution": {
     "iopub.execute_input": "2022-04-15T15:51:49.954890Z",
     "iopub.status.busy": "2022-04-15T15:51:49.954340Z",
     "iopub.status.idle": "2022-04-15T15:51:50.097801Z",
     "shell.execute_reply": "2022-04-15T15:51:50.096910Z"
    },
    "papermill": {
     "duration": 0.185304,
     "end_time": "2022-04-15T15:51:50.099679",
     "exception": false,
     "start_time": "2022-04-15T15:51:49.914375",
     "status": "completed"
    },
    "tags": []
   },
   "outputs": [
    {
     "data": {
      "text/plain": [
       "<AxesSubplot:xlabel='Emitten', ylabel='Sales Growth'>"
      ]
     },
     "execution_count": 10,
     "metadata": {},
     "output_type": "execute_result"
    },
    {
     "data": {
      "image/png": "[encoded data removed]",
      "text/plain": [
       "<Figure size 1296x288 with 1 Axes>"
      ]
     },
     "metadata": {
      "needs_background": "light"
     },
     "output_type": "display_data"
    }
   ],
   "source": [
    "plt.figure(figsize=(18, 4))\n",
    "plt.xticks(rotation=45)\n",
    "sns.scatterplot(x='Emitten', y='Sales Growth', \n",
    "                data=df0, s=80)"
   ]
  },
  {
   "cell_type": "code",
   "execution_count": 11,
   "id": "cd85640f",
   "metadata": {
    "execution": {
     "iopub.execute_input": "2022-04-15T15:51:50.182381Z",
     "iopub.status.busy": "2022-04-15T15:51:50.181966Z",
     "iopub.status.idle": "2022-04-15T15:51:50.189432Z",
     "shell.execute_reply": "2022-04-15T15:51:50.188969Z"
    },
    "papermill": {
     "duration": 0.050784,
     "end_time": "2022-04-15T15:51:50.191112",
     "exception": false,
     "start_time": "2022-04-15T15:51:50.140328",
     "status": "completed"
    },
    "tags": []
   },
   "outputs": [
    {
     "name": "stdout",
     "output_type": "stream",
     "text": [
      "Jumlah baris sebelum memfilter outlier: 3\n",
      "Jumlah baris setelah memfilter outlier: 3\n"
     ]
    }
   ],
   "source": [
    "print(f'Jumlah baris sebelum memfilter outlier: {len(df1)}')\n",
    "\n",
    "filtered_entries = np.array([False] * len(df1))\n",
    "for col in ['Operating Profit Margin']:\n",
    "    zscore = abs(stats.zscore(df1[col]))\n",
    "    filtered_entries = (zscore < 3) | filtered_entries\n",
    "    \n",
    "df1 = df1[filtered_entries]\n",
    "\n",
    "print(f'Jumlah baris setelah memfilter outlier: {len(df1)}')"
   ]
  },
  {
   "cell_type": "code",
   "execution_count": 12,
   "id": "efc7a629",
   "metadata": {
    "execution": {
     "iopub.execute_input": "2022-04-15T15:51:50.250211Z",
     "iopub.status.busy": "2022-04-15T15:51:50.249870Z",
     "iopub.status.idle": "2022-04-15T15:51:50.267452Z",
     "shell.execute_reply": "2022-04-15T15:51:50.267051Z"
    },
    "papermill": {
     "duration": 0.048321,
     "end_time": "2022-04-15T15:51:50.268814",
     "exception": false,
     "start_time": "2022-04-15T15:51:50.220493",
     "status": "completed"
    },
    "tags": []
   },
   "outputs": [
    {
     "data": {
      "text/html": [
       "<div>\n",
       "<style scoped>\n",
       "    .dataframe tbody tr th:only-of-type {\n",
       "        vertical-align: middle;\n",
       "    }\n",
       "\n",
       "    .dataframe tbody tr th {\n",
       "        vertical-align: top;\n",
       "    }\n",
       "\n",
       "    .dataframe thead th {\n",
       "        text-align: right;\n",
       "    }\n",
       "</style>\n",
       "<table border=\"1\" class=\"dataframe\">\n",
       "  <thead>\n",
       "    <tr style=\"text-align: right;\">\n",
       "      <th></th>\n",
       "      <th>DER</th>\n",
       "      <th>Operating Profit Margin</th>\n",
       "      <th>Return On Asset</th>\n",
       "      <th>Sales Growth</th>\n",
       "      <th>Category</th>\n",
       "    </tr>\n",
       "  </thead>\n",
       "  <tbody>\n",
       "    <tr>\n",
       "      <th>count</th>\n",
       "      <td>3.000000</td>\n",
       "      <td>3.000000</td>\n",
       "      <td>3.000000</td>\n",
       "      <td>3.000000</td>\n",
       "      <td>0.0</td>\n",
       "    </tr>\n",
       "    <tr>\n",
       "      <th>mean</th>\n",
       "      <td>9.344470</td>\n",
       "      <td>2.343210</td>\n",
       "      <td>10.958126</td>\n",
       "      <td>32.837649</td>\n",
       "      <td>NaN</td>\n",
       "    </tr>\n",
       "    <tr>\n",
       "      <th>std</th>\n",
       "      <td>15.415716</td>\n",
       "      <td>3.029477</td>\n",
       "      <td>18.986828</td>\n",
       "      <td>56.785711</td>\n",
       "      <td>NaN</td>\n",
       "    </tr>\n",
       "    <tr>\n",
       "      <th>min</th>\n",
       "      <td>0.341202</td>\n",
       "      <td>0.341202</td>\n",
       "      <td>-0.078639</td>\n",
       "      <td>-0.014861</td>\n",
       "      <td>NaN</td>\n",
       "    </tr>\n",
       "    <tr>\n",
       "      <th>25%</th>\n",
       "      <td>0.444402</td>\n",
       "      <td>0.600563</td>\n",
       "      <td>-0.003839</td>\n",
       "      <td>0.052426</td>\n",
       "      <td>NaN</td>\n",
       "    </tr>\n",
       "    <tr>\n",
       "      <th>50%</th>\n",
       "      <td>0.547602</td>\n",
       "      <td>0.859924</td>\n",
       "      <td>0.070961</td>\n",
       "      <td>0.119712</td>\n",
       "      <td>NaN</td>\n",
       "    </tr>\n",
       "    <tr>\n",
       "      <th>75%</th>\n",
       "      <td>13.846104</td>\n",
       "      <td>3.344215</td>\n",
       "      <td>16.476509</td>\n",
       "      <td>49.263903</td>\n",
       "      <td>NaN</td>\n",
       "    </tr>\n",
       "    <tr>\n",
       "      <th>max</th>\n",
       "      <td>27.144606</td>\n",
       "      <td>5.828505</td>\n",
       "      <td>32.882056</td>\n",
       "      <td>98.408094</td>\n",
       "      <td>NaN</td>\n",
       "    </tr>\n",
       "  </tbody>\n",
       "</table>\n",
       "</div>"
      ],
      "text/plain": [
       "             DER  Operating Profit Margin  Return On Asset  Sales Growth  \\\n",
       "count   3.000000                 3.000000         3.000000      3.000000   \n",
       "mean    9.344470                 2.343210        10.958126     32.837649   \n",
       "std    15.415716                 3.029477        18.986828     56.785711   \n",
       "min     0.341202                 0.341202        -0.078639     -0.014861   \n",
       "25%     0.444402                 0.600563        -0.003839      0.052426   \n",
       "50%     0.547602                 0.859924         0.070961      0.119712   \n",
       "75%    13.846104                 3.344215        16.476509     49.263903   \n",
       "max    27.144606                 5.828505        32.882056     98.408094   \n",
       "\n",
       "       Category  \n",
       "count       0.0  \n",
       "mean        NaN  \n",
       "std         NaN  \n",
       "min         NaN  \n",
       "25%         NaN  \n",
       "50%         NaN  \n",
       "75%         NaN  \n",
       "max         NaN  "
      ]
     },
     "execution_count": 12,
     "metadata": {},
     "output_type": "execute_result"
    }
   ],
   "source": [
    "df1.describe()"
   ]
  },
  {
   "cell_type": "code",
   "execution_count": 13,
   "id": "e742541a",
   "metadata": {
    "execution": {
     "iopub.execute_input": "2022-04-15T15:51:50.327279Z",
     "iopub.status.busy": "2022-04-15T15:51:50.326666Z",
     "iopub.status.idle": "2022-04-15T15:51:50.464204Z",
     "shell.execute_reply": "2022-04-15T15:51:50.463256Z"
    },
    "papermill": {
     "duration": 0.169377,
     "end_time": "2022-04-15T15:51:50.466340",
     "exception": false,
     "start_time": "2022-04-15T15:51:50.296963",
     "status": "completed"
    },
    "tags": []
   },
   "outputs": [
    {
     "data": {
      "text/html": [
       "<div>\n",
       "<style scoped>\n",
       "    .dataframe tbody tr th:only-of-type {\n",
       "        vertical-align: middle;\n",
       "    }\n",
       "\n",
       "    .dataframe tbody tr th {\n",
       "        vertical-align: top;\n",
       "    }\n",
       "\n",
       "    .dataframe thead th {\n",
       "        text-align: right;\n",
       "    }\n",
       "</style>\n",
       "<table border=\"1\" class=\"dataframe\">\n",
       "  <thead>\n",
       "    <tr style=\"text-align: right;\">\n",
       "      <th></th>\n",
       "      <th>DER</th>\n",
       "      <th>Operating Profit Margin</th>\n",
       "      <th>Sales Growth</th>\n",
       "    </tr>\n",
       "  </thead>\n",
       "  <tbody>\n",
       "    <tr>\n",
       "      <th>count</th>\n",
       "      <td>3.000000e+00</td>\n",
       "      <td>3.000000e+00</td>\n",
       "      <td>3.000000</td>\n",
       "    </tr>\n",
       "    <tr>\n",
       "      <th>mean</th>\n",
       "      <td>3.700743e-17</td>\n",
       "      <td>7.401487e-17</td>\n",
       "      <td>0.000000</td>\n",
       "    </tr>\n",
       "    <tr>\n",
       "      <th>std</th>\n",
       "      <td>1.224745e+00</td>\n",
       "      <td>1.224745e+00</td>\n",
       "      <td>1.224745</td>\n",
       "    </tr>\n",
       "    <tr>\n",
       "      <th>min</th>\n",
       "      <td>-7.152900e-01</td>\n",
       "      <td>-8.093642e-01</td>\n",
       "      <td>-0.708558</td>\n",
       "    </tr>\n",
       "    <tr>\n",
       "      <th>25%</th>\n",
       "      <td>-7.070909e-01</td>\n",
       "      <td>-7.045106e-01</td>\n",
       "      <td>-0.707106</td>\n",
       "    </tr>\n",
       "    <tr>\n",
       "      <th>50%</th>\n",
       "      <td>-6.988919e-01</td>\n",
       "      <td>-5.996571e-01</td>\n",
       "      <td>-0.705655</td>\n",
       "    </tr>\n",
       "    <tr>\n",
       "      <th>75%</th>\n",
       "      <td>3.576450e-01</td>\n",
       "      <td>4.046821e-01</td>\n",
       "      <td>0.354279</td>\n",
       "    </tr>\n",
       "    <tr>\n",
       "      <th>max</th>\n",
       "      <td>1.414182e+00</td>\n",
       "      <td>1.409021e+00</td>\n",
       "      <td>1.414213</td>\n",
       "    </tr>\n",
       "  </tbody>\n",
       "</table>\n",
       "</div>"
      ],
      "text/plain": [
       "                DER  Operating Profit Margin  Sales Growth\n",
       "count  3.000000e+00             3.000000e+00      3.000000\n",
       "mean   3.700743e-17             7.401487e-17      0.000000\n",
       "std    1.224745e+00             1.224745e+00      1.224745\n",
       "min   -7.152900e-01            -8.093642e-01     -0.708558\n",
       "25%   -7.070909e-01            -7.045106e-01     -0.707106\n",
       "50%   -6.988919e-01            -5.996571e-01     -0.705655\n",
       "75%    3.576450e-01             4.046821e-01      0.354279\n",
       "max    1.414182e+00             1.409021e+00      1.414213"
      ]
     },
     "execution_count": 13,
     "metadata": {},
     "output_type": "execute_result"
    }
   ],
   "source": [
    "feats = ['DER','Operating Profit Margin','Sales Growth']\n",
    "X = df1[feats].values\n",
    "y = df1['Category'].values\n",
    "\n",
    "from sklearn.preprocessing import StandardScaler\n",
    "X_std = StandardScaler().fit_transform(X)\n",
    "new_df = pd.DataFrame(data = X_std, columns = feats)\n",
    "new_df.describe()"
   ]
  },
  {
   "cell_type": "code",
   "execution_count": 14,
   "id": "1dd7a5e2",
   "metadata": {
    "execution": {
     "iopub.execute_input": "2022-04-15T15:51:50.526284Z",
     "iopub.status.busy": "2022-04-15T15:51:50.525853Z",
     "iopub.status.idle": "2022-04-15T15:51:50.755815Z",
     "shell.execute_reply": "2022-04-15T15:51:50.755086Z"
    },
    "papermill": {
     "duration": 0.261743,
     "end_time": "2022-04-15T15:51:50.757653",
     "exception": false,
     "start_time": "2022-04-15T15:51:50.495910",
     "status": "completed"
    },
    "tags": []
   },
   "outputs": [],
   "source": [
    "from sklearn.cluster import KMeans\n",
    "wcss=[]"
   ]
  },
  {
   "cell_type": "code",
   "execution_count": 15,
   "id": "3087f670",
   "metadata": {
    "execution": {
     "iopub.execute_input": "2022-04-15T15:51:50.815297Z",
     "iopub.status.busy": "2022-04-15T15:51:50.815003Z",
     "iopub.status.idle": "2022-04-15T15:51:50.819453Z",
     "shell.execute_reply": "2022-04-15T15:51:50.818757Z"
    },
    "papermill": {
     "duration": 0.035193,
     "end_time": "2022-04-15T15:51:50.821019",
     "exception": false,
     "start_time": "2022-04-15T15:51:50.785826",
     "status": "completed"
    },
    "tags": []
   },
   "outputs": [
    {
     "data": {
      "text/plain": [
       "(3, 6)"
      ]
     },
     "execution_count": 15,
     "metadata": {},
     "output_type": "execute_result"
    }
   ],
   "source": [
    "df0.shape"
   ]
  },
  {
   "cell_type": "code",
   "execution_count": 16,
   "id": "3bd95ece",
   "metadata": {
    "execution": {
     "iopub.execute_input": "2022-04-15T15:51:50.879248Z",
     "iopub.status.busy": "2022-04-15T15:51:50.879017Z",
     "iopub.status.idle": "2022-04-15T15:51:51.222508Z",
     "shell.execute_reply": "2022-04-15T15:51:51.221470Z"
    },
    "papermill": {
     "duration": 0.37508,
     "end_time": "2022-04-15T15:51:51.224609",
     "exception": false,
     "start_time": "2022-04-15T15:51:50.849529",
     "status": "completed"
    },
    "tags": []
   },
   "outputs": [
    {
     "data": {
      "text/plain": [
       "[<matplotlib.lines.Line2D at 0x7f90651de910>]"
      ]
     },
     "execution_count": 16,
     "metadata": {},
     "output_type": "execute_result"
    },
    {
     "data": {
      "image/png": "[encoded data removed]",
      "text/plain": [
       "<Figure size 864x432 with 1 Axes>"
      ]
     },
     "metadata": {
      "needs_background": "light"
     },
     "output_type": "display_data"
    }
   ],
   "source": [
    "from sklearn.cluster import KMeans\n",
    "inertia = []\n",
    "\n",
    "for i in range(1, 3):\n",
    "  kmeans = KMeans(n_clusters=i, init='k-means++', max_iter=300, n_init=10, random_state=0)\n",
    "  kmeans.fit(new_df.values)\n",
    "  inertia.append(kmeans.inertia_)\n",
    "\n",
    "plt.figure(figsize=(12, 6))\n",
    "plt.plot(inertia) #Elbow Method"
   ]
  },
  {
   "cell_type": "code",
   "execution_count": 17,
   "id": "e440f0b4",
   "metadata": {
    "execution": {
     "iopub.execute_input": "2022-04-15T15:51:51.285576Z",
     "iopub.status.busy": "2022-04-15T15:51:51.285136Z",
     "iopub.status.idle": "2022-04-15T15:51:51.298977Z",
     "shell.execute_reply": "2022-04-15T15:51:51.298529Z"
    },
    "papermill": {
     "duration": 0.047334,
     "end_time": "2022-04-15T15:51:51.301317",
     "exception": false,
     "start_time": "2022-04-15T15:51:51.253983",
     "status": "completed"
    },
    "tags": []
   },
   "outputs": [
    {
     "data": {
      "text/plain": [
       "KMeans(n_clusters=2, random_state=0)"
      ]
     },
     "execution_count": 17,
     "metadata": {},
     "output_type": "execute_result"
    }
   ],
   "source": [
    "from sklearn.cluster import KMeans\n",
    "kmeans = KMeans(n_clusters=2, init='k-means++', max_iter=300, n_init=10, random_state=0)\n",
    "kmeans.fit(new_df.values)"
   ]
  },
  {
   "cell_type": "code",
   "execution_count": 18,
   "id": "53e013ae",
   "metadata": {
    "execution": {
     "iopub.execute_input": "2022-04-15T15:51:51.364799Z",
     "iopub.status.busy": "2022-04-15T15:51:51.364573Z",
     "iopub.status.idle": "2022-04-15T15:51:51.368899Z",
     "shell.execute_reply": "2022-04-15T15:51:51.368270Z"
    },
    "papermill": {
     "duration": 0.037266,
     "end_time": "2022-04-15T15:51:51.370437",
     "exception": false,
     "start_time": "2022-04-15T15:51:51.333171",
     "status": "completed"
    },
    "tags": []
   },
   "outputs": [],
   "source": [
    "new_df['target'] = y\n",
    "new_df['fit'] = kmeans.labels_"
   ]
  },
  {
   "cell_type": "code",
   "execution_count": 19,
   "id": "e8c825ce",
   "metadata": {
    "execution": {
     "iopub.execute_input": "2022-04-15T15:51:51.431446Z",
     "iopub.status.busy": "2022-04-15T15:51:51.431050Z",
     "iopub.status.idle": "2022-04-15T15:51:51.587613Z",
     "shell.execute_reply": "2022-04-15T15:51:51.587038Z"
    },
    "papermill": {
     "duration": 0.189231,
     "end_time": "2022-04-15T15:51:51.589351",
     "exception": false,
     "start_time": "2022-04-15T15:51:51.400120",
     "status": "completed"
    },
    "tags": []
   },
   "outputs": [
    {
     "data": {
      "image/png": "[encoded data removed]",
      "text/plain": [
       "<Figure size 576x576 with 1 Axes>"
      ]
     },
     "metadata": {
      "needs_background": "light"
     },
     "output_type": "display_data"
    }
   ],
   "source": [
    "plt.rcParams[\"figure.figsize\"] = (8, 8)\n",
    "sns.scatterplot(x='DER', y='Operating Profit Margin', hue=new_df.target.to_list(), data=new_df);"
   ]
  },
  {
   "cell_type": "code",
   "execution_count": 20,
   "id": "ec646d52",
   "metadata": {
    "execution": {
     "iopub.execute_input": "2022-04-15T15:51:51.654663Z",
     "iopub.status.busy": "2022-04-15T15:51:51.654305Z",
     "iopub.status.idle": "2022-04-15T15:51:51.666087Z",
     "shell.execute_reply": "2022-04-15T15:51:51.665397Z"
    },
    "papermill": {
     "duration": 0.046731,
     "end_time": "2022-04-15T15:51:51.667624",
     "exception": false,
     "start_time": "2022-04-15T15:51:51.620893",
     "status": "completed"
    },
    "tags": []
   },
   "outputs": [
    {
     "data": {
      "text/html": [
       "<div>\n",
       "<style scoped>\n",
       "    .dataframe tbody tr th:only-of-type {\n",
       "        vertical-align: middle;\n",
       "    }\n",
       "\n",
       "    .dataframe tbody tr th {\n",
       "        vertical-align: top;\n",
       "    }\n",
       "\n",
       "    .dataframe thead th {\n",
       "        text-align: right;\n",
       "    }\n",
       "</style>\n",
       "<table border=\"1\" class=\"dataframe\">\n",
       "  <thead>\n",
       "    <tr style=\"text-align: right;\">\n",
       "      <th></th>\n",
       "      <th>DER</th>\n",
       "      <th>Operating Profit Margin</th>\n",
       "      <th>Sales Growth</th>\n",
       "      <th>target</th>\n",
       "      <th>fit</th>\n",
       "    </tr>\n",
       "  </thead>\n",
       "  <tbody>\n",
       "    <tr>\n",
       "      <th>0</th>\n",
       "      <td>-0.715290</td>\n",
       "      <td>-0.809364</td>\n",
       "      <td>-0.705655</td>\n",
       "      <td>NaN</td>\n",
       "      <td>0</td>\n",
       "    </tr>\n",
       "    <tr>\n",
       "      <th>1</th>\n",
       "      <td>1.414182</td>\n",
       "      <td>1.409021</td>\n",
       "      <td>-0.708558</td>\n",
       "      <td>NaN</td>\n",
       "      <td>1</td>\n",
       "    </tr>\n",
       "    <tr>\n",
       "      <th>2</th>\n",
       "      <td>-0.698892</td>\n",
       "      <td>-0.599657</td>\n",
       "      <td>1.414213</td>\n",
       "      <td>NaN</td>\n",
       "      <td>0</td>\n",
       "    </tr>\n",
       "  </tbody>\n",
       "</table>\n",
       "</div>"
      ],
      "text/plain": [
       "        DER  Operating Profit Margin  Sales Growth  target  fit\n",
       "0 -0.715290                -0.809364     -0.705655     NaN    0\n",
       "1  1.414182                 1.409021     -0.708558     NaN    1\n",
       "2 -0.698892                -0.599657      1.414213     NaN    0"
      ]
     },
     "execution_count": 20,
     "metadata": {},
     "output_type": "execute_result"
    }
   ],
   "source": [
    "new_df.head(5)"
   ]
  },
  {
   "cell_type": "code",
   "execution_count": 21,
   "id": "ab651331",
   "metadata": {
    "execution": {
     "iopub.execute_input": "2022-04-15T15:51:51.731813Z",
     "iopub.status.busy": "2022-04-15T15:51:51.731576Z",
     "iopub.status.idle": "2022-04-15T15:51:51.750188Z",
     "shell.execute_reply": "2022-04-15T15:51:51.749249Z"
    },
    "papermill": {
     "duration": 0.052529,
     "end_time": "2022-04-15T15:51:51.751817",
     "exception": false,
     "start_time": "2022-04-15T15:51:51.699288",
     "status": "completed"
    },
    "tags": []
   },
   "outputs": [
    {
     "data": {
      "text/html": [
       "<div>\n",
       "<style scoped>\n",
       "    .dataframe tbody tr th:only-of-type {\n",
       "        vertical-align: middle;\n",
       "    }\n",
       "\n",
       "    .dataframe tbody tr th {\n",
       "        vertical-align: top;\n",
       "    }\n",
       "\n",
       "    .dataframe thead th {\n",
       "        text-align: right;\n",
       "    }\n",
       "</style>\n",
       "<table border=\"1\" class=\"dataframe\">\n",
       "  <thead>\n",
       "    <tr style=\"text-align: right;\">\n",
       "      <th></th>\n",
       "      <th>Category</th>\n",
       "      <th>DER</th>\n",
       "      <th>Operating Profit Margin</th>\n",
       "      <th>Sales Growth</th>\n",
       "      <th>target</th>\n",
       "      <th>fit</th>\n",
       "    </tr>\n",
       "  </thead>\n",
       "  <tbody>\n",
       "    <tr>\n",
       "      <th>0</th>\n",
       "      <td>2</td>\n",
       "      <td>-0.715290</td>\n",
       "      <td>-0.809364</td>\n",
       "      <td>-0.705655</td>\n",
       "      <td>NaN</td>\n",
       "      <td>0</td>\n",
       "    </tr>\n",
       "    <tr>\n",
       "      <th>1</th>\n",
       "      <td>4</td>\n",
       "      <td>1.414182</td>\n",
       "      <td>1.409021</td>\n",
       "      <td>-0.708558</td>\n",
       "      <td>NaN</td>\n",
       "      <td>1</td>\n",
       "    </tr>\n",
       "    <tr>\n",
       "      <th>2</th>\n",
       "      <td>2</td>\n",
       "      <td>-0.698892</td>\n",
       "      <td>-0.599657</td>\n",
       "      <td>1.414213</td>\n",
       "      <td>NaN</td>\n",
       "      <td>0</td>\n",
       "    </tr>\n",
       "  </tbody>\n",
       "</table>\n",
       "</div>"
      ],
      "text/plain": [
       "   Category       DER  Operating Profit Margin  Sales Growth  target  fit\n",
       "0         2 -0.715290                -0.809364     -0.705655     NaN    0\n",
       "1         4  1.414182                 1.409021     -0.708558     NaN    1\n",
       "2         2 -0.698892                -0.599657      1.414213     NaN    0"
      ]
     },
     "execution_count": 21,
     "metadata": {},
     "output_type": "execute_result"
    }
   ],
   "source": [
    "new_df.insert(0,\"Category\",np.nan,True)\n",
    "new_df.loc[new_df['fit'] == 0, 'Category'] = 2\n",
    "new_df.loc[new_df['fit'] == 1, 'Category'] = 4\n",
    "new_df.loc[new_df['fit'] == 2, 'Category'] = 1\n",
    "new_df.loc[new_df['fit'] == 3, 'Category'] = 0\n",
    "new_df.loc[new_df['fit'] == 4, 'Category'] = 3\n",
    "new_df['Category'] = new_df['Category'].astype(int)\n",
    "new_df.head(5)"
   ]
  },
  {
   "cell_type": "code",
   "execution_count": 22,
   "id": "6dbb90fd",
   "metadata": {
    "execution": {
     "iopub.execute_input": "2022-04-15T15:51:51.816926Z",
     "iopub.status.busy": "2022-04-15T15:51:51.816676Z",
     "iopub.status.idle": "2022-04-15T15:51:51.830113Z",
     "shell.execute_reply": "2022-04-15T15:51:51.829559Z"
    },
    "papermill": {
     "duration": 0.047512,
     "end_time": "2022-04-15T15:51:51.831499",
     "exception": false,
     "start_time": "2022-04-15T15:51:51.783987",
     "status": "completed"
    },
    "tags": []
   },
   "outputs": [
    {
     "name": "stdout",
     "output_type": "stream",
     "text": [
      "<class 'pandas.core.frame.DataFrame'>\n",
      "RangeIndex: 3 entries, 0 to 2\n",
      "Data columns (total 4 columns):\n",
      " #   Column                         Non-Null Count  Dtype  \n",
      "---  ------                         --------------  -----  \n",
      " 0   Category                       3 non-null      int64  \n",
      " 1   DER (St.)                      3 non-null      float64\n",
      " 2   Operating Profit Margin (St.)  3 non-null      float64\n",
      " 3   Sales Growth (St.)             3 non-null      float64\n",
      "dtypes: float64(3), int64(1)\n",
      "memory usage: 224.0 bytes\n"
     ]
    }
   ],
   "source": [
    "new_df.drop([\"fit\",\"target\"], axis=1, inplace=True)\n",
    "new_df.columns = ['Category','DER (St.)','Operating Profit Margin (St.)', 'Sales Growth (St.)']\n",
    "new_df.info()"
   ]
  },
  {
   "cell_type": "code",
   "execution_count": 23,
   "id": "5f8339fc",
   "metadata": {
    "execution": {
     "iopub.execute_input": "2022-04-15T15:51:51.897346Z",
     "iopub.status.busy": "2022-04-15T15:51:51.896666Z",
     "iopub.status.idle": "2022-04-15T15:51:52.276559Z",
     "shell.execute_reply": "2022-04-15T15:51:52.276117Z"
    },
    "papermill": {
     "duration": 0.414652,
     "end_time": "2022-04-15T15:51:52.278091",
     "exception": false,
     "start_time": "2022-04-15T15:51:51.863439",
     "status": "completed"
    },
    "tags": []
   },
   "outputs": [
    {
     "data": {
      "image/png": "[encoded data removed]",
      "text/plain": [
       "<Figure size 576x576 with 1 Axes>"
      ]
     },
     "metadata": {
      "needs_background": "light"
     },
     "output_type": "display_data"
    }
   ],
   "source": [
    "from mpl_toolkits.mplot3d import Axes3D\n",
    "\n",
    "fig = plt.figure()\n",
    "ax = fig.add_subplot(111, projection = '3d')\n",
    "\n",
    "\n",
    "x = new_df['DER (St.)']\n",
    "y = new_df['Operating Profit Margin (St.)']\n",
    "z = new_df['Sales Growth (St.)']\n",
    "\n",
    "ax.set_xlabel(\"DER (St.)\")\n",
    "ax.set_ylabel(\"Operating Profit Margin (St.)\")\n",
    "ax.set_zlabel(\"Sales Growth (St.)\")\n",
    "\n",
    "cmap = ListedColormap(sns.color_palette(\"RdYlGn\", 256).as_hex())\n",
    "\n",
    "sc = ax.scatter(x, y, z, s=40, c=new_df['Category'], marker='o', cmap=cmap, alpha=1)\n",
    "plt.legend(*sc.legend_elements(), bbox_to_anchor=(1.05, 1), loc=2)\n",
    "\n",
    "plt.show()"
   ]
  },
  {
   "cell_type": "code",
   "execution_count": 24,
   "id": "a769c85a",
   "metadata": {
    "execution": {
     "iopub.execute_input": "2022-04-15T15:51:52.347937Z",
     "iopub.status.busy": "2022-04-15T15:51:52.346577Z",
     "iopub.status.idle": "2022-04-15T15:51:52.557878Z",
     "shell.execute_reply": "2022-04-15T15:51:52.556791Z"
    },
    "papermill": {
     "duration": 0.249025,
     "end_time": "2022-04-15T15:51:52.560023",
     "exception": false,
     "start_time": "2022-04-15T15:51:52.310998",
     "status": "completed"
    },
    "tags": []
   },
   "outputs": [
    {
     "data": {
      "image/png": "[encoded data removed]",
      "text/plain": [
       "<Figure size 576x576 with 1 Axes>"
      ]
     },
     "metadata": {
      "needs_background": "light"
     },
     "output_type": "display_data"
    }
   ],
   "source": [
    "# color palette as dictionary\n",
    "palette = {0:\"tab:red\",\n",
    "           1:\"tab:orange\", \n",
    "           2:\"yellow\",\n",
    "           3:\"lime\",\n",
    "           4:\"darkgreen\"}\n",
    "\n",
    "sns.scatterplot(x='DER (St.)', y='Sales Growth (St.)', \n",
    "                hue='Category', data=new_df, s=80,\n",
    "                palette=palette)\n",
    "plt.title(\"DER vs Sales Growth (Standardisasi)\", fontsize=18, y=1.05)\n",
    "plt.show()"
   ]
  },
  {
   "cell_type": "code",
   "execution_count": 25,
   "id": "5eef5e9d",
   "metadata": {
    "execution": {
     "iopub.execute_input": "2022-04-15T15:51:52.663944Z",
     "iopub.status.busy": "2022-04-15T15:51:52.663654Z",
     "iopub.status.idle": "2022-04-15T15:51:52.856142Z",
     "shell.execute_reply": "2022-04-15T15:51:52.855237Z"
    },
    "papermill": {
     "duration": 0.246329,
     "end_time": "2022-04-15T15:51:52.857752",
     "exception": false,
     "start_time": "2022-04-15T15:51:52.611423",
     "status": "completed"
    },
    "tags": []
   },
   "outputs": [
    {
     "data": {
      "image/png": "[encoded data removed]",
      "text/plain": [
       "<Figure size 576x576 with 1 Axes>"
      ]
     },
     "metadata": {
      "needs_background": "light"
     },
     "output_type": "display_data"
    }
   ],
   "source": [
    "sns.scatterplot(x='Operating Profit Margin (St.)', y='Sales Growth (St.)', \n",
    "                hue='Category', data=new_df, s=80,\n",
    "                palette=palette)\n",
    "plt.title(\"Operating Profit Margin vs Sales Growth (Standardisasi)\", fontsize=18, y=1.05)\n",
    "plt.show()"
   ]
  },
  {
   "cell_type": "code",
   "execution_count": 26,
   "id": "25385df8",
   "metadata": {
    "execution": {
     "iopub.execute_input": "2022-04-15T15:51:52.929515Z",
     "iopub.status.busy": "2022-04-15T15:51:52.928549Z",
     "iopub.status.idle": "2022-04-15T15:51:53.133374Z",
     "shell.execute_reply": "2022-04-15T15:51:53.132458Z"
    },
    "papermill": {
     "duration": 0.242893,
     "end_time": "2022-04-15T15:51:53.135589",
     "exception": false,
     "start_time": "2022-04-15T15:51:52.892696",
     "status": "completed"
    },
    "tags": []
   },
   "outputs": [
    {
     "data": {
      "image/png": "[encoded data removed]",
      "text/plain": [
       "<Figure size 576x576 with 1 Axes>"
      ]
     },
     "metadata": {
      "needs_background": "light"
     },
     "output_type": "display_data"
    }
   ],
   "source": [
    "sns.scatterplot(x='DER (St.)', y='Operating Profit Margin (St.)', \n",
    "                hue='Category', data=new_df, s=80,\n",
    "                palette=palette)\n",
    "plt.title(\"DER vs Operating Profit Margin (Standardisasi)\", fontsize=18, y=1.05)\n",
    "plt.show()"
   ]
  }
 ],
 "metadata": {
  "kernelspec": {
   "display_name": "Python 3",
   "language": "python",
   "name": "python3"
  },
  "language_info": {
   "codemirror_mode": {
    "name": "ipython",
    "version": 3
   },
   "file_extension": ".py",
   "mimetype": "text/x-python",
   "name": "python",
   "nbconvert_exporter": "python",
   "pygments_lexer": "ipython3",
   "version": "3.7.12"
  },
  "papermill": {
   "default_parameters": {},
   "duration": 17.344663,
   "end_time": "2022-04-15T15:51:56.332213",
   "environment_variables": {},
   "exception": null,
   "input_path": "__notebook__.ipynb",
   "output_path": "__notebook__.ipynb",
   "parameters": {},
   "start_time": "2022-04-15T15:51:38.987550",
   "version": "2.3.4"
  }
 },
 "nbformat": 4,
 "nbformat_minor": 5
}
